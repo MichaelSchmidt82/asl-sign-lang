{
 "cells": [
  {
   "cell_type": "markdown",
   "metadata": {},
   "source": [
    "### Project parameters"
   ]
  },
  {
   "cell_type": "code",
   "execution_count": 21,
   "metadata": {},
   "outputs": [],
   "source": [
    "## Imports ##\n",
    "import cv2\n",
    "import torch\n",
    "import numpy as np\n",
    "\n",
    "## Constants ##\n",
    "img_rows = 200\n",
    "img_cols = 200\n",
    "num_classes = 26\n",
    "num_examples = 3000\n",
    "\n",
    "## Hyperparameters ##\n",
    "epochs = 1000"
   ]
  },
  {
   "cell_type": "markdown",
   "metadata": {},
   "source": [
    "### Functions"
   ]
  },
  {
   "cell_type": "code",
   "execution_count": 22,
   "metadata": {},
   "outputs": [],
   "source": [
    "def get_examples(size=300):\n",
    "    x_train = []\n",
    "    indices = np.random.randint(1, num_examples + 1, size=size)\n",
    "    y_train = np.random.randint(0, num_classes, size=size)\n",
    "\n",
    "    for i in range(size):\n",
    "        img=cv2.imread('dataset/train/{letter}/{letter}{idx}.jpg'.format(\n",
    "            letter=chr(y_train[i] + 65),\n",
    "            idx=indices[i]\n",
    "        ))\n",
    "        img = cv2.cvtColor(img.astype('uint8'), cv2.COLOR_RGB2GRAY)\n",
    "        x_train.append(img)\n",
    "        \n",
    "    x_train = np.array(x_train)\n",
    "    x_train = x_train.reshape(x_train.shape[0], img_rows * img_cols)\n",
    "    x_train = (x_train.astype(np.float32) - 127.5) / 127.5 # Rescale -1 to 1\n",
    "    \n",
    "    return x_train, y_train"
   ]
  },
  {
   "cell_type": "code",
   "execution_count": 23,
   "metadata": {},
   "outputs": [],
   "source": [
    "def environ():\n",
    "    if torch.cuda.is_available():\n",
    "        print('Found Cuda devices:')\n",
    "        devices = [x for x in range(torch.cuda.device_count())]\n",
    "        for dev in devices:\n",
    "            print('device {dev}:'.format(dev=dev), torch.cuda.get_device_name(dev))\n",
    "\n",
    "        print('Using', torch.cuda.get_device_name(torch.cuda.current_device()))"
   ]
  },
  {
   "cell_type": "code",
   "execution_count": 24,
   "metadata": {},
   "outputs": [
    {
     "data": {
      "text/plain": [
       "((800, 40000), (800,))"
      ]
     },
     "execution_count": 24,
     "metadata": {},
     "output_type": "execute_result"
    }
   ],
   "source": [
    "x_t, y_t = get_examples(size=800)\n",
    "x_t.shape, y_t.shape"
   ]
  },
  {
   "cell_type": "code",
   "execution_count": 25,
   "metadata": {},
   "outputs": [
    {
     "name": "stdout",
     "output_type": "stream",
     "text": [
      "Found Cuda devices:\n",
      "device 0: GeForce GTX 1080\n",
      "device 1: GeForce GTX 1080\n",
      "Using GeForce GTX 1080\n"
     ]
    }
   ],
   "source": [
    "\n"
   ]
  },
  {
   "cell_type": "code",
   "execution_count": null,
   "metadata": {},
   "outputs": [],
   "source": []
  },
  {
   "cell_type": "code",
   "execution_count": null,
   "metadata": {},
   "outputs": [],
   "source": []
  }
 ],
 "metadata": {
  "kernelspec": {
   "display_name": "Python 3 (Neural Networks)",
   "language": "python",
   "name": "neural_networks"
  },
  "language_info": {
   "codemirror_mode": {
    "name": "ipython",
    "version": 3
   },
   "file_extension": ".py",
   "mimetype": "text/x-python",
   "name": "python",
   "nbconvert_exporter": "python",
   "pygments_lexer": "ipython3",
   "version": "3.6.8"
  }
 },
 "nbformat": 4,
 "nbformat_minor": 2
}
