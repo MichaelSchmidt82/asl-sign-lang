{
 "cells": [
  {
   "cell_type": "markdown",
   "metadata": {},
   "source": [
    "### Project parameters"
   ]
  },
  {
   "cell_type": "code",
   "execution_count": 70,
   "metadata": {},
   "outputs": [],
   "source": [
    "## Imports ##\n",
    "import cv2\n",
    "import numpy as np\n",
    "\n",
    "## Constants ##\n",
    "img_rows = 200\n",
    "img_cols = 200\n",
    "num_classes = 26\n",
    "num_examples = 3000\n",
    "\n",
    "## Hyperparameters ##\n",
    "epochs = 1000"
   ]
  },
  {
   "cell_type": "markdown",
   "metadata": {},
   "source": [
    "### Functions"
   ]
  },
  {
   "cell_type": "code",
   "execution_count": 71,
   "metadata": {},
   "outputs": [],
   "source": [
    "def get_examples(size=300):\n",
    "    x_train = []\n",
    "    indices = np.random.randint(1, num_examples + 1, size=size)\n",
    "    y_train = np.random.randint(0, num_classes, size=size)\n",
    "    \n",
    "    for i in range(size):\n",
    "        img=cv2.imread(\"dataset/train/{letter}/{letter}{idx}.jpg\".format(\n",
    "            letter=chr(y_train[i] + 65),\n",
    "            idx=indices[i]\n",
    "        ))\n",
    "        img = cv2.cvtColor(img, cv2.COLOR_RGB2GRAY)\n",
    "        x_train.append(img)\n",
    "        \n",
    "    x_train = np.array(x_train)\n",
    "    x_train = x_train.reshape(x_train.shape[0], img_rows * img_cols)\n",
    "    x_train = (x_train.astype(np.float32) - 127.5) / 127.5 # Rescale -1 to 1\n",
    "    \n",
    "    return x_train, y_train"
   ]
  },
  {
   "cell_type": "code",
   "execution_count": null,
   "metadata": {},
   "outputs": [],
   "source": []
  },
  {
   "cell_type": "code",
   "execution_count": null,
   "metadata": {},
   "outputs": [],
   "source": []
  },
  {
   "cell_type": "code",
   "execution_count": null,
   "metadata": {},
   "outputs": [],
   "source": []
  },
  {
   "cell_type": "code",
   "execution_count": null,
   "metadata": {},
   "outputs": [],
   "source": []
  },
  {
   "cell_type": "code",
   "execution_count": null,
   "metadata": {},
   "outputs": [],
   "source": []
  }
 ],
 "metadata": {
  "kernelspec": {
   "display_name": "Python 3",
   "language": "python",
   "name": "python3"
  },
  "language_info": {
   "codemirror_mode": {
    "name": "ipython",
    "version": 3
   },
   "file_extension": ".py",
   "mimetype": "text/x-python",
   "name": "python",
   "nbconvert_exporter": "python",
   "pygments_lexer": "ipython3",
   "version": "3.6.5"
  }
 },
 "nbformat": 4,
 "nbformat_minor": 2
}
